{
 "cells": [
  {
   "cell_type": "code",
   "execution_count": 21,
   "metadata": {},
   "outputs": [],
   "source": [
    "from pyspark.ml import feature\n",
    "from pyspark.ml import clustering\n",
    "from pyspark.ml import Pipeline\n",
    "from pyspark.ml import pipeline\n",
    "from pyspark.sql import functions as fn\n",
    "import pyspark\n",
    "from pyspark.sql import SparkSession\n",
    "from pyspark.ml import feature, regression, evaluation, Pipeline\n",
    "from pyspark.sql import functions as fn, Row\n",
    "from pyspark.ml.evaluation import MulticlassClassificationEvaluator\n",
    "import matplotlib.pyplot as plt\n",
    "import pandas as pd\n",
    "from pyspark.sql.functions import when, lit, col,isnull,split, udf\n",
    "from pyspark.ml.feature import StringIndexer,  VectorAssembler, OneHotEncoder\n",
    "from pyspark.sql.functions import year, month, dayofmonth, hour\n",
    "from pyspark.ml.feature import Bucketizer, VectorSlicer\n",
    "from pyspark.sql.types import *\n",
    "from pyspark.sql.types import IntegerType\n",
    "from pyspark.ml.feature import PCA\n",
    "from pyspark.ml.classification import LogisticRegression, RandomForestClassifier\n",
    "from pyspark.ml import Pipeline\n",
    "from pyspark.ml import classification\n",
    "from pyspark.ml.tuning import CrossValidator, ParamGridBuilder\n",
    "from pyspark.ml.evaluation import BinaryClassificationEvaluator, MulticlassClassificationEvaluator, RegressionEvaluator\n",
    "spark = SparkSession.builder.getOrCreate()\n",
    "sc = spark.sparkContext"
   ]
  },
  {
   "cell_type": "code",
   "execution_count": 22,
   "metadata": {},
   "outputs": [],
   "source": [
    "#Read the csv file\n",
    "data = spark.read.csv('data.csv',inferSchema=True, header=True)"
   ]
  },
  {
   "cell_type": "code",
   "execution_count": 23,
   "metadata": {},
   "outputs": [
    {
     "name": "stdout",
     "output_type": "stream",
     "text": [
      "root\n",
      " |-- Year: integer (nullable = true)\n",
      " |-- Crash Descriptor: string (nullable = true)\n",
      " |-- Time: string (nullable = true)\n",
      " |-- Date: string (nullable = true)\n",
      " |-- Day of Week: string (nullable = true)\n",
      " |-- Police Report: string (nullable = true)\n",
      " |-- Lighting Conditions: string (nullable = true)\n",
      " |-- Municipality: string (nullable = true)\n",
      " |-- Collision Type Descriptor: string (nullable = true)\n",
      " |-- County Name: string (nullable = true)\n",
      " |-- Road Descriptor: string (nullable = true)\n",
      " |-- Weather Conditions: string (nullable = true)\n",
      " |-- Traffic Control Device: string (nullable = true)\n",
      " |-- Road Surface Conditions: string (nullable = true)\n",
      " |-- DOT Reference Marker Location: string (nullable = true)\n",
      " |-- Pedestrian Bicyclist Action: string (nullable = true)\n",
      " |-- Event Descriptor: string (nullable = true)\n",
      " |-- Number of Vehicles Involved: integer (nullable = true)\n",
      "\n"
     ]
    }
   ],
   "source": [
    "data.printSchema()"
   ]
  },
  {
   "cell_type": "code",
   "execution_count": 24,
   "metadata": {},
   "outputs": [],
   "source": [
    "# Label the rows with injury accident = 1 and property damage accident = 0\n",
    "df = data.withColumn('AccidentDescriptor', \n",
    "                     when((data['Crash Descriptor'] == 'Property Damage & Injury Accident') | \n",
    "                          (data['Crash Descriptor'] == 'Injury Accident')| \n",
    "                          (data['Crash Descriptor'] == 'Fatal Accident'), 1).otherwise(0).cast(\"double\"))"
   ]
  },
  {
   "cell_type": "code",
   "execution_count": 25,
   "metadata": {},
   "outputs": [],
   "source": [
    "## HOUR BUCKETIZER\n",
    "\n",
    "#Extract the hour from the time column\n",
    "df = df.withColumn('Hour', hour('Time'))\n",
    "\n",
    "#Bucket the hour column: \n",
    "# 5 Buckets: 0-4a.m. = 0.0, 5-11 = 1.0, 12-16 = 2.0, 17-22 = 3.0, 23-24 = 4.0\n",
    "# 5 Buckets: 0-4 = Night, 5-11 = Morning, 12-16 = Afternoon, 17-22 = Evening, 23-34 = Night\n",
    "\n",
    "bucketizer = Bucketizer(splits=[0,5,12,17,23,24],inputCol=\"Hour\", outputCol=\"Hour_buckets\")\n",
    "df = bucketizer.setHandleInvalid(\"keep\").transform(df)\n",
    "\n",
    "# convert 5 buckets into 4 buckets (we have twice Night): 1.0 = Morning, 2.0 = Afternoon, 3.0 = Evening, 4.0 = Night\n",
    "t = {0.0:4, 1.0: 1, 2.0: 2, 3.0: 3, 4.0: 4}\n",
    "udf_foo = udf(lambda x: t[x], IntegerType())\n",
    "df = df.withColumn(\"Hour\", udf_foo(\"Hour_buckets\"))\n",
    "\n",
    "#Extract the month from the Date column\n",
    "df = df.withColumn('Month', split(df['Date'], '/')[0])\n",
    "df = df.withColumn('Month',df.Month.cast('int'))\n"
   ]
  },
  {
   "cell_type": "code",
   "execution_count": 26,
   "metadata": {},
   "outputs": [],
   "source": [
    "# removing features\n",
    "df= df.drop('Time','Date','Hour_buckets','Municipality','DOT Reference Marker Location', 'Crash Descriptor',\n",
    "            'Number of Vehicles Involved', 'Year', 'Police Report', 'Pedestrian Bicyclist Action', 'Event Descriptor')\n",
    "\n",
    "# let us take a look at it with pandas\n",
    "df_pd = df.toPandas()"
   ]
  },
  {
   "cell_type": "code",
   "execution_count": 27,
   "metadata": {
    "scrolled": true
   },
   "outputs": [
    {
     "data": {
      "text/html": [
       "<div>\n",
       "<style scoped>\n",
       "    .dataframe tbody tr th:only-of-type {\n",
       "        vertical-align: middle;\n",
       "    }\n",
       "\n",
       "    .dataframe tbody tr th {\n",
       "        vertical-align: top;\n",
       "    }\n",
       "\n",
       "    .dataframe thead th {\n",
       "        text-align: right;\n",
       "    }\n",
       "</style>\n",
       "<table border=\"1\" class=\"dataframe\">\n",
       "  <thead>\n",
       "    <tr style=\"text-align: right;\">\n",
       "      <th></th>\n",
       "      <th>0</th>\n",
       "      <th>1</th>\n",
       "      <th>2</th>\n",
       "      <th>3</th>\n",
       "      <th>4</th>\n",
       "      <th>5</th>\n",
       "      <th>6</th>\n",
       "      <th>7</th>\n",
       "      <th>8</th>\n",
       "      <th>9</th>\n",
       "      <th>...</th>\n",
       "      <th>895906</th>\n",
       "      <th>895907</th>\n",
       "      <th>895908</th>\n",
       "      <th>895909</th>\n",
       "      <th>895910</th>\n",
       "      <th>895911</th>\n",
       "      <th>895912</th>\n",
       "      <th>895913</th>\n",
       "      <th>895914</th>\n",
       "      <th>895915</th>\n",
       "    </tr>\n",
       "  </thead>\n",
       "  <tbody>\n",
       "    <tr>\n",
       "      <th>Day of Week</th>\n",
       "      <td>Saturday</td>\n",
       "      <td>Saturday</td>\n",
       "      <td>Saturday</td>\n",
       "      <td>Saturday</td>\n",
       "      <td>Saturday</td>\n",
       "      <td>Saturday</td>\n",
       "      <td>Saturday</td>\n",
       "      <td>Saturday</td>\n",
       "      <td>Saturday</td>\n",
       "      <td>Saturday</td>\n",
       "      <td>...</td>\n",
       "      <td>Wednesday</td>\n",
       "      <td>Wednesday</td>\n",
       "      <td>Wednesday</td>\n",
       "      <td>Wednesday</td>\n",
       "      <td>Wednesday</td>\n",
       "      <td>Wednesday</td>\n",
       "      <td>Wednesday</td>\n",
       "      <td>Wednesday</td>\n",
       "      <td>Wednesday</td>\n",
       "      <td>Wednesday</td>\n",
       "    </tr>\n",
       "    <tr>\n",
       "      <th>Lighting Conditions</th>\n",
       "      <td>Dark-Road Unlighted</td>\n",
       "      <td>Dark-Road Unlighted</td>\n",
       "      <td>Daylight</td>\n",
       "      <td>Unknown</td>\n",
       "      <td>Daylight</td>\n",
       "      <td>Dusk</td>\n",
       "      <td>Daylight</td>\n",
       "      <td>Daylight</td>\n",
       "      <td>Daylight</td>\n",
       "      <td>Dark-Road Lighted</td>\n",
       "      <td>...</td>\n",
       "      <td>Dark-Road Unlighted</td>\n",
       "      <td>Daylight</td>\n",
       "      <td>Dark-Road Lighted</td>\n",
       "      <td>Dark-Road Lighted</td>\n",
       "      <td>Daylight</td>\n",
       "      <td>Dark-Road Lighted</td>\n",
       "      <td>Unknown</td>\n",
       "      <td>Daylight</td>\n",
       "      <td>Daylight</td>\n",
       "      <td>Daylight</td>\n",
       "    </tr>\n",
       "    <tr>\n",
       "      <th>Collision Type Descriptor</th>\n",
       "      <td>OTHER</td>\n",
       "      <td>SIDESWIPE</td>\n",
       "      <td>LEFT TURN (3)</td>\n",
       "      <td>Unknown</td>\n",
       "      <td>LEFT TURN (3)</td>\n",
       "      <td>OTHER</td>\n",
       "      <td>OTHER</td>\n",
       "      <td>REAR END</td>\n",
       "      <td>REAR END</td>\n",
       "      <td>RIGHT ANGLE</td>\n",
       "      <td>...</td>\n",
       "      <td>OTHER</td>\n",
       "      <td>RIGHT ANGLE</td>\n",
       "      <td>Unknown</td>\n",
       "      <td>OVERTAKING</td>\n",
       "      <td>OTHER</td>\n",
       "      <td>OTHER</td>\n",
       "      <td>OTHER</td>\n",
       "      <td>OTHER</td>\n",
       "      <td>OTHER</td>\n",
       "      <td>OTHER</td>\n",
       "    </tr>\n",
       "    <tr>\n",
       "      <th>County Name</th>\n",
       "      <td>LEWIS</td>\n",
       "      <td>SUFFOLK</td>\n",
       "      <td>OTSEGO</td>\n",
       "      <td>KINGS</td>\n",
       "      <td>RENSSELAER</td>\n",
       "      <td>ERIE</td>\n",
       "      <td>ALBANY</td>\n",
       "      <td>WESTCHESTER</td>\n",
       "      <td>GREENE</td>\n",
       "      <td>NASSAU</td>\n",
       "      <td>...</td>\n",
       "      <td>OTSEGO</td>\n",
       "      <td>SUFFOLK</td>\n",
       "      <td>BRONX</td>\n",
       "      <td>KINGS</td>\n",
       "      <td>ERIE</td>\n",
       "      <td>ERIE</td>\n",
       "      <td>MONROE</td>\n",
       "      <td>ROCKLAND</td>\n",
       "      <td>QUEENS</td>\n",
       "      <td>SUFFOLK</td>\n",
       "    </tr>\n",
       "    <tr>\n",
       "      <th>Road Descriptor</th>\n",
       "      <td>Curve and Grade</td>\n",
       "      <td>Straight and Level</td>\n",
       "      <td>Straight and Level</td>\n",
       "      <td>Unknown</td>\n",
       "      <td>Straight and Grade</td>\n",
       "      <td>Straight and Grade</td>\n",
       "      <td>Curve and Level</td>\n",
       "      <td>Curve and Level</td>\n",
       "      <td>Straight at Hill Crest</td>\n",
       "      <td>Straight and Level</td>\n",
       "      <td>...</td>\n",
       "      <td>Curve and Level</td>\n",
       "      <td>Straight and Level</td>\n",
       "      <td>Straight at Hill Crest</td>\n",
       "      <td>Straight and Level</td>\n",
       "      <td>Curve and Level</td>\n",
       "      <td>Straight and Level</td>\n",
       "      <td>Unknown</td>\n",
       "      <td>Straight and Level</td>\n",
       "      <td>Straight and Level</td>\n",
       "      <td>Straight and Level</td>\n",
       "    </tr>\n",
       "    <tr>\n",
       "      <th>Weather Conditions</th>\n",
       "      <td>Cloudy</td>\n",
       "      <td>Clear</td>\n",
       "      <td>Cloudy</td>\n",
       "      <td>Unknown</td>\n",
       "      <td>Clear</td>\n",
       "      <td>Clear</td>\n",
       "      <td>Clear</td>\n",
       "      <td>Clear</td>\n",
       "      <td>Cloudy</td>\n",
       "      <td>Clear</td>\n",
       "      <td>...</td>\n",
       "      <td>Snow</td>\n",
       "      <td>Clear</td>\n",
       "      <td>Clear</td>\n",
       "      <td>Clear</td>\n",
       "      <td>Clear</td>\n",
       "      <td>Clear</td>\n",
       "      <td>Unknown</td>\n",
       "      <td>Clear</td>\n",
       "      <td>Clear</td>\n",
       "      <td>Cloudy</td>\n",
       "    </tr>\n",
       "    <tr>\n",
       "      <th>Traffic Control Device</th>\n",
       "      <td>None</td>\n",
       "      <td>None</td>\n",
       "      <td>No Passing Zone</td>\n",
       "      <td>Unknown</td>\n",
       "      <td>Traffic Signal</td>\n",
       "      <td>Unknown</td>\n",
       "      <td>None</td>\n",
       "      <td>None</td>\n",
       "      <td>None</td>\n",
       "      <td>None</td>\n",
       "      <td>...</td>\n",
       "      <td>No Passing Zone</td>\n",
       "      <td>Stop Sign</td>\n",
       "      <td>None</td>\n",
       "      <td>None</td>\n",
       "      <td>None</td>\n",
       "      <td>None</td>\n",
       "      <td>Unknown</td>\n",
       "      <td>None</td>\n",
       "      <td>Traffic Signal</td>\n",
       "      <td>None</td>\n",
       "    </tr>\n",
       "    <tr>\n",
       "      <th>Road Surface Conditions</th>\n",
       "      <td>Wet</td>\n",
       "      <td>Dry</td>\n",
       "      <td>Wet</td>\n",
       "      <td>Unknown</td>\n",
       "      <td>Dry</td>\n",
       "      <td>Snow/Ice</td>\n",
       "      <td>Snow/Ice</td>\n",
       "      <td>Dry</td>\n",
       "      <td>Snow/Ice</td>\n",
       "      <td>Dry</td>\n",
       "      <td>...</td>\n",
       "      <td>Snow/Ice</td>\n",
       "      <td>Dry</td>\n",
       "      <td>Dry</td>\n",
       "      <td>Dry</td>\n",
       "      <td>Snow/Ice</td>\n",
       "      <td>Wet</td>\n",
       "      <td>Unknown</td>\n",
       "      <td>Dry</td>\n",
       "      <td>Dry</td>\n",
       "      <td>Dry</td>\n",
       "    </tr>\n",
       "    <tr>\n",
       "      <th>AccidentDescriptor</th>\n",
       "      <td>0</td>\n",
       "      <td>0</td>\n",
       "      <td>1</td>\n",
       "      <td>1</td>\n",
       "      <td>0</td>\n",
       "      <td>0</td>\n",
       "      <td>1</td>\n",
       "      <td>1</td>\n",
       "      <td>0</td>\n",
       "      <td>1</td>\n",
       "      <td>...</td>\n",
       "      <td>0</td>\n",
       "      <td>0</td>\n",
       "      <td>1</td>\n",
       "      <td>0</td>\n",
       "      <td>0</td>\n",
       "      <td>1</td>\n",
       "      <td>0</td>\n",
       "      <td>1</td>\n",
       "      <td>0</td>\n",
       "      <td>0</td>\n",
       "    </tr>\n",
       "    <tr>\n",
       "      <th>Hour</th>\n",
       "      <td>3</td>\n",
       "      <td>1</td>\n",
       "      <td>1</td>\n",
       "      <td>2</td>\n",
       "      <td>1</td>\n",
       "      <td>3</td>\n",
       "      <td>1</td>\n",
       "      <td>2</td>\n",
       "      <td>2</td>\n",
       "      <td>3</td>\n",
       "      <td>...</td>\n",
       "      <td>3</td>\n",
       "      <td>1</td>\n",
       "      <td>3</td>\n",
       "      <td>1</td>\n",
       "      <td>1</td>\n",
       "      <td>4</td>\n",
       "      <td>3</td>\n",
       "      <td>2</td>\n",
       "      <td>1</td>\n",
       "      <td>2</td>\n",
       "    </tr>\n",
       "    <tr>\n",
       "      <th>Month</th>\n",
       "      <td>12</td>\n",
       "      <td>12</td>\n",
       "      <td>12</td>\n",
       "      <td>12</td>\n",
       "      <td>12</td>\n",
       "      <td>12</td>\n",
       "      <td>12</td>\n",
       "      <td>12</td>\n",
       "      <td>12</td>\n",
       "      <td>12</td>\n",
       "      <td>...</td>\n",
       "      <td>1</td>\n",
       "      <td>1</td>\n",
       "      <td>1</td>\n",
       "      <td>1</td>\n",
       "      <td>1</td>\n",
       "      <td>1</td>\n",
       "      <td>1</td>\n",
       "      <td>1</td>\n",
       "      <td>1</td>\n",
       "      <td>1</td>\n",
       "    </tr>\n",
       "  </tbody>\n",
       "</table>\n",
       "<p>11 rows × 895916 columns</p>\n",
       "</div>"
      ],
      "text/plain": [
       "                                        0                    1       \\\n",
       "Day of Week                           Saturday             Saturday   \n",
       "Lighting Conditions        Dark-Road Unlighted  Dark-Road Unlighted   \n",
       "Collision Type Descriptor                OTHER            SIDESWIPE   \n",
       "County Name                              LEWIS              SUFFOLK   \n",
       "Road Descriptor                Curve and Grade   Straight and Level   \n",
       "Weather Conditions                      Cloudy                Clear   \n",
       "Traffic Control Device                    None                 None   \n",
       "Road Surface Conditions                    Wet                  Dry   \n",
       "AccidentDescriptor                           0                    0   \n",
       "Hour                                         3                    1   \n",
       "Month                                       12                   12   \n",
       "\n",
       "                                       2         3                   4       \\\n",
       "Day of Week                          Saturday  Saturday            Saturday   \n",
       "Lighting Conditions                  Daylight   Unknown            Daylight   \n",
       "Collision Type Descriptor       LEFT TURN (3)   Unknown       LEFT TURN (3)   \n",
       "County Name                            OTSEGO     KINGS          RENSSELAER   \n",
       "Road Descriptor            Straight and Level   Unknown  Straight and Grade   \n",
       "Weather Conditions                     Cloudy   Unknown               Clear   \n",
       "Traffic Control Device        No Passing Zone   Unknown      Traffic Signal   \n",
       "Road Surface Conditions                   Wet   Unknown                 Dry   \n",
       "AccidentDescriptor                          1         1                   0   \n",
       "Hour                                        1         2                   1   \n",
       "Month                                      12        12                  12   \n",
       "\n",
       "                                       5                6       \\\n",
       "Day of Week                          Saturday         Saturday   \n",
       "Lighting Conditions                      Dusk         Daylight   \n",
       "Collision Type Descriptor               OTHER            OTHER   \n",
       "County Name                              ERIE           ALBANY   \n",
       "Road Descriptor            Straight and Grade  Curve and Level   \n",
       "Weather Conditions                      Clear            Clear   \n",
       "Traffic Control Device                Unknown             None   \n",
       "Road Surface Conditions              Snow/Ice         Snow/Ice   \n",
       "AccidentDescriptor                          0                1   \n",
       "Hour                                        3                1   \n",
       "Month                                      12               12   \n",
       "\n",
       "                                    7                       8       \\\n",
       "Day of Week                       Saturday                Saturday   \n",
       "Lighting Conditions               Daylight                Daylight   \n",
       "Collision Type Descriptor         REAR END                REAR END   \n",
       "County Name                    WESTCHESTER                  GREENE   \n",
       "Road Descriptor            Curve and Level  Straight at Hill Crest   \n",
       "Weather Conditions                   Clear                  Cloudy   \n",
       "Traffic Control Device                None                    None   \n",
       "Road Surface Conditions                Dry                Snow/Ice   \n",
       "AccidentDescriptor                       1                       0   \n",
       "Hour                                     2                       2   \n",
       "Month                                   12                      12   \n",
       "\n",
       "                                       9              ...          \\\n",
       "Day of Week                          Saturday         ...           \n",
       "Lighting Conditions         Dark-Road Lighted         ...           \n",
       "Collision Type Descriptor         RIGHT ANGLE         ...           \n",
       "County Name                            NASSAU         ...           \n",
       "Road Descriptor            Straight and Level         ...           \n",
       "Weather Conditions                      Clear         ...           \n",
       "Traffic Control Device                   None         ...           \n",
       "Road Surface Conditions                   Dry         ...           \n",
       "AccidentDescriptor                          1         ...           \n",
       "Hour                                        3         ...           \n",
       "Month                                      12         ...           \n",
       "\n",
       "                                        895906              895907  \\\n",
       "Day of Week                          Wednesday           Wednesday   \n",
       "Lighting Conditions        Dark-Road Unlighted            Daylight   \n",
       "Collision Type Descriptor                OTHER         RIGHT ANGLE   \n",
       "County Name                             OTSEGO             SUFFOLK   \n",
       "Road Descriptor                Curve and Level  Straight and Level   \n",
       "Weather Conditions                        Snow               Clear   \n",
       "Traffic Control Device         No Passing Zone           Stop Sign   \n",
       "Road Surface Conditions               Snow/Ice                 Dry   \n",
       "AccidentDescriptor                           0                   0   \n",
       "Hour                                         3                   1   \n",
       "Month                                        1                   1   \n",
       "\n",
       "                                           895908              895909  \\\n",
       "Day of Week                             Wednesday           Wednesday   \n",
       "Lighting Conditions             Dark-Road Lighted   Dark-Road Lighted   \n",
       "Collision Type Descriptor                 Unknown          OVERTAKING   \n",
       "County Name                                 BRONX               KINGS   \n",
       "Road Descriptor            Straight at Hill Crest  Straight and Level   \n",
       "Weather Conditions                          Clear               Clear   \n",
       "Traffic Control Device                       None                None   \n",
       "Road Surface Conditions                       Dry                 Dry   \n",
       "AccidentDescriptor                              1                   0   \n",
       "Hour                                            3                   1   \n",
       "Month                                           1                   1   \n",
       "\n",
       "                                    895910              895911     895912  \\\n",
       "Day of Week                      Wednesday           Wednesday  Wednesday   \n",
       "Lighting Conditions               Daylight   Dark-Road Lighted    Unknown   \n",
       "Collision Type Descriptor            OTHER               OTHER      OTHER   \n",
       "County Name                           ERIE                ERIE     MONROE   \n",
       "Road Descriptor            Curve and Level  Straight and Level    Unknown   \n",
       "Weather Conditions                   Clear               Clear    Unknown   \n",
       "Traffic Control Device                None                None    Unknown   \n",
       "Road Surface Conditions           Snow/Ice                 Wet    Unknown   \n",
       "AccidentDescriptor                       0                   1          0   \n",
       "Hour                                     1                   4          3   \n",
       "Month                                    1                   1          1   \n",
       "\n",
       "                                       895913              895914  \\\n",
       "Day of Week                         Wednesday           Wednesday   \n",
       "Lighting Conditions                  Daylight            Daylight   \n",
       "Collision Type Descriptor               OTHER               OTHER   \n",
       "County Name                          ROCKLAND              QUEENS   \n",
       "Road Descriptor            Straight and Level  Straight and Level   \n",
       "Weather Conditions                      Clear               Clear   \n",
       "Traffic Control Device                   None      Traffic Signal   \n",
       "Road Surface Conditions                   Dry                 Dry   \n",
       "AccidentDescriptor                          1                   0   \n",
       "Hour                                        2                   1   \n",
       "Month                                       1                   1   \n",
       "\n",
       "                                       895915  \n",
       "Day of Week                         Wednesday  \n",
       "Lighting Conditions                  Daylight  \n",
       "Collision Type Descriptor               OTHER  \n",
       "County Name                           SUFFOLK  \n",
       "Road Descriptor            Straight and Level  \n",
       "Weather Conditions                     Cloudy  \n",
       "Traffic Control Device                   None  \n",
       "Road Surface Conditions                   Dry  \n",
       "AccidentDescriptor                          0  \n",
       "Hour                                        2  \n",
       "Month                                       1  \n",
       "\n",
       "[11 rows x 895916 columns]"
      ]
     },
     "execution_count": 27,
     "metadata": {},
     "output_type": "execute_result"
    }
   ],
   "source": [
    "# display table\n",
    "df_pd.T"
   ]
  },
  {
   "cell_type": "code",
   "execution_count": 28,
   "metadata": {},
   "outputs": [],
   "source": [
    "#Using StringIndexer to change the column as categorical variable \n",
    "#or to convert the textual data to numeric data keeping the categorical context.\n",
    "\n",
    "pipe_feat= Pipeline(stages=[StringIndexer(inputCol = 'Day of Week', outputCol = 'Day of Week_index'),\n",
    "                            StringIndexer(inputCol = 'Lighting Conditions', outputCol = 'Lighting Conditions_index'),\n",
    "                            StringIndexer(inputCol = 'Collision Type Descriptor', outputCol = 'Collision Type Descriptor_index'),\n",
    "                            StringIndexer(inputCol = 'County Name', outputCol = 'County Name_index'),\n",
    "                            StringIndexer(inputCol = 'Road Descriptor', outputCol = 'Road Descriptor_index'),\n",
    "                            StringIndexer(inputCol = 'Weather Conditions', outputCol = 'Weather Conditions_index'),\n",
    "                            StringIndexer(inputCol = 'Traffic Control Device', outputCol = 'Traffic Control Device_index'),\n",
    "                            StringIndexer(inputCol = 'Road Surface Conditions', outputCol = 'Road Surface Conditions_index'),\n",
    "                            StringIndexer(inputCol = 'Hour', outputCol = 'Hour_index'),\n",
    "                            StringIndexer(inputCol = 'Month', outputCol = 'Month_index'),\n",
    "                            OneHotEncoder(inputCol = 'Day of Week_index', outputCol = 'Day of Week_feat', dropLast=False),\n",
    "                            OneHotEncoder(inputCol = 'Lighting Conditions_index', outputCol = 'Lighting Conditions_feat', dropLast=False),\n",
    "                            OneHotEncoder(inputCol = 'Collision Type Descriptor_index', outputCol = 'Collision Type Descriptor_feat', dropLast=False),\n",
    "                            OneHotEncoder(inputCol = 'County Name_index', outputCol = 'County Name_feat', dropLast=False),\n",
    "                            OneHotEncoder(inputCol = 'Road Descriptor_index', outputCol = 'Road Descriptor_feat', dropLast=False),\n",
    "                            OneHotEncoder(inputCol = 'Weather Conditions_index', outputCol = 'Weather Conditions_feat', dropLast=False),\n",
    "                            OneHotEncoder(inputCol = 'Traffic Control Device_index', outputCol = 'Traffic Control Device_feat', dropLast=False),\n",
    "                            OneHotEncoder(inputCol = 'Road Surface Conditions_index', outputCol = 'Road Surface Conditions_feat', dropLast=False),\n",
    "                            OneHotEncoder(inputCol = 'Hour_index', outputCol = 'Hour_feat', dropLast=False),\n",
    "                            OneHotEncoder(inputCol = 'Month_index', outputCol = 'Month_feat', dropLast=False),\n",
    "                            VectorAssembler(inputCols=['Day of Week_feat','Lighting Conditions_feat','Collision Type Descriptor_feat',\n",
    "                                                    'County Name_feat', 'Road Descriptor_feat','Weather Conditions_feat','Traffic Control Device_feat',\n",
    "                                                     'Road Surface Conditions_feat','Hour_feat','Month_feat'], outputCol = 'features',handleInvalid=\"keep\")]).fit(df)"
   ]
  },
  {
   "cell_type": "code",
   "execution_count": 29,
   "metadata": {},
   "outputs": [],
   "source": [
    "#Transforming the model\n",
    "df_feat = pipe_feat.transform(df)"
   ]
  },
  {
   "cell_type": "code",
   "execution_count": 30,
   "metadata": {},
   "outputs": [
    {
     "name": "stdout",
     "output_type": "stream",
     "text": [
      "+----------------+------+\n",
      "|Day of Week_feat| count|\n",
      "+----------------+------+\n",
      "|   (7,[6],[1.0])|100708|\n",
      "|   (7,[1],[1.0])|135332|\n",
      "|   (7,[2],[1.0])|132954|\n",
      "|   (7,[4],[1.0])|128593|\n",
      "|   (7,[5],[1.0])|118697|\n",
      "|   (7,[0],[1.0])|147681|\n",
      "|   (7,[3],[1.0])|131951|\n",
      "+----------------+------+\n",
      "\n"
     ]
    }
   ],
   "source": [
    "#Checking the number of features present\n",
    "df_feat.groupby('Day of Week_feat').count().show()"
   ]
  },
  {
   "cell_type": "code",
   "execution_count": 31,
   "metadata": {},
   "outputs": [],
   "source": [
    "#Creating a data split\n",
    "training_df, validation_df, testing_df = df_feat.randomSplit([0.6, 0.3, 0.1], seed=0)"
   ]
  },
  {
   "cell_type": "code",
   "execution_count": 32,
   "metadata": {},
   "outputs": [],
   "source": [
    "#logistic Regression model using all 145 features\n",
    "pipe_lr = Pipeline(stages=[classification.LogisticRegression(labelCol='AccidentDescriptor', featuresCol='features',regParam = 0.1,elasticNetParam = 0.001)])"
   ]
  },
  {
   "cell_type": "code",
   "execution_count": 33,
   "metadata": {},
   "outputs": [],
   "source": [
    "#Random forest model using all 145 features\n",
    "pipe_rf = Pipeline(stages=[classification.RandomForestClassifier(labelCol='AccidentDescriptor', featuresCol='features',numTrees = 20,maxDepth = 6)])\n"
   ]
  },
  {
   "cell_type": "code",
   "execution_count": 34,
   "metadata": {},
   "outputs": [],
   "source": [
    "#Gradient boosting model using all 145 features\n",
    "pipe_gbt = Pipeline(stages=[classification.GBTClassifier(labelCol='AccidentDescriptor', featuresCol='features',maxIter = 10)])"
   ]
  },
  {
   "cell_type": "code",
   "execution_count": 35,
   "metadata": {},
   "outputs": [],
   "source": [
    "#Creating the Lr model\n",
    "fit_lr = pipe_lr.fit(training_df)\n",
    "#Transforming the LR model to dataframe\n",
    "dataframe_lr = fit_lr.transform(validation_df)\n",
    "\n",
    "#Creating the RF model\n",
    "fit_rf = pipe_rf.fit(training_df)\n",
    "#Transforming the RF model to dataframe\n",
    "dataframe_rf = fit_rf.transform(validation_df)\n",
    "\n",
    "#Creating the GBT model\n",
    "fit_gbt = pipe_gbt.fit(training_df)\n",
    "#Transforming the GBT model to dataframe\n",
    "dataframe_gbt = fit_gbt.transform(validation_df)"
   ]
  },
  {
   "cell_type": "code",
   "execution_count": 36,
   "metadata": {},
   "outputs": [],
   "source": [
    "fit_rf = pipe_rf.fit(training_df)"
   ]
  },
  {
   "cell_type": "code",
   "execution_count": 37,
   "metadata": {},
   "outputs": [
    {
     "name": "stdout",
     "output_type": "stream",
     "text": [
      "The AUC of LR : 0.7454821500807303\n",
      "The AUC of RF : 0.7232604893767578\n",
      "The AUC of GBT : 0.7379352101600039\n"
     ]
    }
   ],
   "source": [
    "#Using Binary Classification Evaluator as the evaluation metric\n",
    "evaluator = evaluation.BinaryClassificationEvaluator(labelCol='AccidentDescriptor')\n",
    "AUC_LR = evaluator.evaluate(dataframe_lr)\n",
    "AUC_RF = evaluator.evaluate(dataframe_rf)\n",
    "AUC_GBT = evaluator.evaluate(dataframe_gbt)\n",
    "#print the AUC of all models\n",
    "print(\"The AUC of LR :\", AUC_LR) \n",
    "print(\"The AUC of RF :\", AUC_RF)\n",
    "print(\"The AUC of GBT :\", AUC_GBT)"
   ]
  },
  {
   "cell_type": "code",
   "execution_count": 38,
   "metadata": {},
   "outputs": [],
   "source": [
    "#Assinging the best model to LR\n",
    "best_lr_allfeat = fit_lr\n",
    "#Performing Testing on the testing dataframe \n",
    "testdf_lr = best_lr_allfeat.transform(testing_df)\n",
    "AUC_best_LR = evaluator.evaluate(testdf_lr)"
   ]
  },
  {
   "cell_type": "code",
   "execution_count": 39,
   "metadata": {
    "scrolled": false
   },
   "outputs": [
    {
     "name": "stdout",
     "output_type": "stream",
     "text": [
      "The AUC of the best model for all features : 0.7447733277861671\n"
     ]
    }
   ],
   "source": [
    "print(\"The AUC of the best model for all features :\", AUC_best_LR)"
   ]
  },
  {
   "cell_type": "code",
   "execution_count": 40,
   "metadata": {},
   "outputs": [],
   "source": [
    "#Creaing a model to visulize ROC\n",
    "lr = classification.LogisticRegression(labelCol='AccidentDescriptor', featuresCol='features',regParam = 0.1,elasticNetParam = 0.001)\n",
    "LR_model = lr.fit(training_df)\n"
   ]
  },
  {
   "cell_type": "code",
   "execution_count": 41,
   "metadata": {},
   "outputs": [
    {
     "data": {
      "image/png": "[encoded data removed]",
      "text/plain": [
       "<Figure size 432x288 with 1 Axes>"
      ]
     },
     "metadata": {
      "needs_background": "light"
     },
     "output_type": "display_data"
    },
    {
     "name": "stdout",
     "output_type": "stream",
     "text": [
      "Training set AUC_LR: 0.7448716658867336\n"
     ]
    }
   ],
   "source": [
    "#Using Pandas to find the FPR and TPR\n",
    "trainingSummary = LR_model.summary\n",
    "roc = trainingSummary.roc.toPandas()\n",
    "plt.plot(roc['FPR'],roc['TPR'])\n",
    "plt.ylabel('False Positive Rate')\n",
    "plt.xlabel('True Positive Rate')\n",
    "plt.title('ROC Curve')\n",
    "plt.show()\n",
    "print('Training set AUC_LR: ' + str(trainingSummary.areaUnderROC))"
   ]
  },
  {
   "cell_type": "code",
   "execution_count": 42,
   "metadata": {},
   "outputs": [],
   "source": [
    "#Predicting the precision,recall and f score of the best model which is LR using all features\n",
    "tp = testdf_lr[(testdf_lr.AccidentDescriptor == 1) & (testdf_lr.prediction == 1)].count()\n",
    "tn = testdf_lr[(testdf_lr.AccidentDescriptor == 0) & (testdf_lr.prediction == 0)].count()\n",
    "fp = testdf_lr[(testdf_lr.AccidentDescriptor == 0) & (testdf_lr.prediction == 1)].count()\n",
    "fn = testdf_lr[(testdf_lr.AccidentDescriptor == 1) & (testdf_lr.prediction == 0)].count()"
   ]
  },
  {
   "cell_type": "code",
   "execution_count": 43,
   "metadata": {},
   "outputs": [
    {
     "name": "stdout",
     "output_type": "stream",
     "text": [
      "Recall: 0.4081745526948923\n",
      "Precision: 0.7250577197032961\n",
      "F1score: 0.5223114759899501\n"
     ]
    }
   ],
   "source": [
    "r = float(tp)/(tp + fn)\n",
    "print (\"Recall:\", r)\n",
    "\n",
    "p = float(tp) / (tp + fp)\n",
    "print (\"Precision:\", p)\n",
    "\n",
    "f1score = float(2*((p*r)/(p+r)))\n",
    "print (\"F1score:\", f1score)"
   ]
  },
  {
   "cell_type": "code",
   "execution_count": 44,
   "metadata": {},
   "outputs": [],
   "source": [
    "#Listing the name of the features\n",
    "df_feature =[ ]\n",
    "label1 = pipe_feat.stages[0].labels\n",
    "for i in label1:\n",
    "    lab1 = i.replace(' ','_')\n",
    "    df_feature.append('Day of Week_'+lab1)\n",
    "label2 = pipe_feat.stages[1].labels\n",
    "for i in label2:\n",
    "    lab2 = i.replace(' ','_')\n",
    "    df_feature.append('Lighting Conditions_'+lab2)\n",
    "label3 = pipe_feat.stages[2].labels\n",
    "for i in label3:\n",
    "    lab3 = i.replace(' ','_')\n",
    "    df_feature.append('Collision Type Descriptor_'+lab3)\n",
    "label4 = pipe_feat.stages[3].labels\n",
    "for i in label4:\n",
    "    lab4 = i.replace(' ','_')\n",
    "    df_feature.append('County Name_'+lab4)\n",
    "label5 = pipe_feat.stages[4].labels\n",
    "for i in label5:\n",
    "    lab5 = i.replace(' ','_')\n",
    "    df_feature.append('Road Descriptor_'+lab5)\n",
    "label6 = pipe_feat.stages[5].labels\n",
    "for i in label6:\n",
    "    lab6= i.replace(' ','_')\n",
    "    df_feature.append('Weather Conditions_'+lab6)\n",
    "label7 = pipe_feat.stages[6].labels\n",
    "for i in label7:\n",
    "    lab7= i.replace(' ','_')\n",
    "    df_feature.append('Traffic Control Device_'+lab7)\n",
    "label8 = pipe_feat.stages[7].labels\n",
    "for i in label8:\n",
    "    lab8= i.replace(' ','_')\n",
    "    df_feature.append('Road Surface Conditions_'+lab8)\n",
    "label9 = pipe_feat.stages[8].labels\n",
    "for i in label9:\n",
    "    lab9= i.replace(' ','_')\n",
    "    df_feature.append('Hour_'+lab9)\n",
    "label10 = pipe_feat.stages[9].labels\n",
    "for i in label10:\n",
    "    lab10= i.replace(' ','_')\n",
    "    df_feature.append('Month_'+lab10)\n"
   ]
  },
  {
   "cell_type": "code",
   "execution_count": 45,
   "metadata": {},
   "outputs": [],
   "source": [
    "#Exctrating the coefficients of the Logistic Regression model\n",
    "lrmcoeff = fit_lr.stages[-1].coefficients"
   ]
  },
  {
   "cell_type": "code",
   "execution_count": 46,
   "metadata": {},
   "outputs": [
    {
     "data": {
      "text/plain": [
       "(145, 145)"
      ]
     },
     "execution_count": 46,
     "metadata": {},
     "output_type": "execute_result"
    }
   ],
   "source": [
    "#Checking if the number of features and coefficients are equal\n",
    "len(lrmcoeff),len(df_feature)"
   ]
  },
  {
   "cell_type": "code",
   "execution_count": 47,
   "metadata": {
    "scrolled": false
   },
   "outputs": [
    {
     "name": "stdout",
     "output_type": "stream",
     "text": [
      "+-------------------------------------------------------------+---------------------+\n",
      "|feature                                                      |LR Coeff             |\n",
      "+-------------------------------------------------------------+---------------------+\n",
      "|County Name_BRONX                                            |1.0086890722086685   |\n",
      "|County Name_KINGS                                            |0.9702974209013482   |\n",
      "|County Name_QUEENS                                           |0.8420003729498119   |\n",
      "|County Name_NEW_YORK                                         |0.7131575078536844   |\n",
      "|Collision Type Descriptor_HEAD_ON                            |0.6758562947681976   |\n",
      "|County Name_RICHMOND                                         |0.6576132538580078   |\n",
      "|Traffic Control Device_Traffic_Signal                        |0.3592865083616503   |\n",
      "|Traffic Control Device_Flashing_Light                        |0.3137430207704314   |\n",
      "|Collision Type Descriptor_OTHER                              |0.29025831737976865  |\n",
      "|Traffic Control Device_Stop_Sign                             |0.20514965703685978  |\n",
      "|Lighting Conditions_Dark-Road_Lighted                        |0.18394625420454597  |\n",
      "|Traffic Control Device_Stopped_School_Bus-Red_Lights_Flashing|0.14146668730129872  |\n",
      "|Traffic Control Device_Police/Fire_Emergency                 |0.1354068864530027   |\n",
      "|Traffic Control Device_Officer/Guard                         |0.12571278984972886  |\n",
      "|Month_8                                                      |0.08929675642562111  |\n",
      "|Month_9                                                      |0.0782137603099215   |\n",
      "|Month_7                                                      |0.07808916328565398  |\n",
      "|Lighting Conditions_Daylight                                 |0.0767093151446102   |\n",
      "|Collision Type Descriptor_REAR_END                           |0.0761700011538148   |\n",
      "|Hour_2                                                       |0.07019341516603016  |\n",
      "|Collision Type Descriptor_LEFT_TURN_(3)                      |0.06566959475616278  |\n",
      "|Traffic Control Device_Utility_Work_Area                     |0.06333744225531913  |\n",
      "|Road Descriptor_Curve_at_Hill_Crest                          |0.06182331648847655  |\n",
      "|Collision Type Descriptor_RIGHT_ANGLE                        |0.05651894428016585  |\n",
      "|Hour_3                                                       |0.05552118239653742  |\n",
      "|Weather Conditions_Clear                                     |0.054416752959476074 |\n",
      "|Road Surface Conditions_Wet                                  |0.050308927455120195 |\n",
      "|Month_6                                                      |0.0464051362268062   |\n",
      "|Road Surface Conditions_Dry                                  |0.04490711234082792  |\n",
      "|Road Descriptor_Straight_at_Hill_Crest                       |0.04480589647973332  |\n",
      "|Month_5                                                      |0.043310273193011485 |\n",
      "|Weather Conditions_Rain                                      |0.03887129364805914  |\n",
      "|Road Descriptor_Straight_and_Level                           |0.03844493873787355  |\n",
      "|Road Descriptor_Curve_and_Grade                              |0.02727205652853174  |\n",
      "|Month_4                                                      |0.027064822410497506 |\n",
      "|Day of Week_Sunday                                           |0.017146000775567105 |\n",
      "|Day of Week_Saturday                                         |0.01562607543461752  |\n",
      "|Road Descriptor_Curve_and_Level                              |0.013222978252769    |\n",
      "|Road Surface Conditions_Other                                |0.0124134579313154   |\n",
      "|Collision Type Descriptor_LEFT_TURN_(0)                      |0.009599449086497852 |\n",
      "|Month_10                                                     |0.0029479219714844632|\n",
      "|Day of Week_Thursday                                         |0.0010197615566265202|\n",
      "|Day of Week_Tuesday                                          |0.0                  |\n",
      "|Day of Week_Monday                                           |0.0                  |\n",
      "|Day of Week_Friday                                           |-0.012519164050109964|\n",
      "|Day of Week_Wednesday                                        |-0.01745149303280109 |\n",
      "|Lighting Conditions_Dusk                                     |-0.018660071043235377|\n",
      "|Traffic Control Device_RR_Crossing_Sign                      |-0.02730840954309945 |\n",
      "|County Name_ERIE                                             |-0.027341412186448914|\n",
      "|Weather Conditions_Sleet/Hail/Freezing_Rain                  |-0.029834527198809392|\n",
      "|County Name_WESTCHESTER                                      |-0.030995076097545458|\n",
      "|Traffic Control Device_Not_Applicable                        |-0.0343033015742814  |\n",
      "|Hour_1                                                       |-0.034460154548068125|\n",
      "|Weather Conditions_Cloudy                                    |-0.034594299765199746|\n",
      "|Month_12                                                     |-0.036250342152157944|\n",
      "|Road Surface Conditions_Unknown                              |-0.039241849117712085|\n",
      "|Weather Conditions_Unknown                                   |-0.05195626605528728 |\n",
      "|Road Surface Conditions_Slush                                |-0.05596552394142281 |\n",
      "|Month_3                                                      |-0.058651651949058616|\n",
      "|Road Descriptor_Unknown                                      |-0.0657833546111945  |\n",
      "|County Name_SUFFOLK                                          |-0.06600399483575518 |\n",
      "|Month_11                                                     |-0.07335876857675104 |\n",
      "|Road Descriptor_Straight_and_Grade                           |-0.07427894477497227 |\n",
      "|Weather Conditions_Fog/Smog/Smoke                            |-0.07932984909528387 |\n",
      "|Month_1                                                      |-0.08250728534715507 |\n",
      "|Traffic Control Device_Yield_Sign                            |-0.08827637665188888 |\n",
      "|Traffic Control Device_No_Passing_Zone                       |-0.09573744542746837 |\n",
      "|Month_2                                                      |-0.10101103127759907 |\n",
      "|Lighting Conditions_Unknown                                  |-0.11095623471602886 |\n",
      "|Traffic Control Device_Maintenance_Work_Area                 |-0.11185191789160132 |\n",
      "|Road Surface Conditions_Muddy                                |-0.11227188453745061 |\n",
      "|Weather Conditions_Snow                                      |-0.11728517812095429 |\n",
      "|County Name_NASSAU                                           |-0.12006881155068898 |\n",
      "|Traffic Control Device_Construction_Work_Area                |-0.13059784246956266 |\n",
      "|Traffic Control Device_School_Zone                           |-0.14199984692090034 |\n",
      "|Weather Conditions_Other*                                    |-0.15596468259253368 |\n",
      "|Road Surface Conditions_Snow/Ice                             |-0.16501936238823195 |\n",
      "|County Name_ROCKLAND                                         |-0.175324076487174   |\n",
      "|Traffic Control Device_None                                  |-0.17925927666372748 |\n",
      "|Lighting Conditions_Dawn                                     |-0.17979914312266582 |\n",
      "|Hour_4                                                       |-0.19324468536680206 |\n",
      "|County Name_DUTCHESS                                         |-0.2158061462936546  |\n",
      "|County Name_ONONDAGA                                         |-0.21995560307260864 |\n",
      "|Traffic Control Device_Unknown                               |-0.2501177388882598  |\n",
      "|Traffic Control Device_RR_Crossing_Gates                     |-0.25364268375267746 |\n",
      "|County Name_WASHINGTON                                       |-0.2608141281490774  |\n",
      "|County Name_MONROE                                           |-0.26464204726370677 |\n",
      "|County Name_NIAGARA                                          |-0.26973876434683797 |\n",
      "|County Name_PUTNAM                                           |-0.2777263600323088  |\n",
      "|County Name_TIOGA                                            |-0.2807456130984655  |\n",
      "|County Name_CAYUGA                                           |-0.2817619990268285  |\n",
      "|County Name_WAYNE                                            |-0.2827378907843151  |\n",
      "|County Name_FULTON                                           |-0.2998763190460323  |\n",
      "|County Name_SULLIVAN                                         |-0.31882287367639545 |\n",
      "|County Name_ONEIDA                                           |-0.3242886589205636  |\n",
      "|County Name_ORLEANS                                          |-0.32459741483495586 |\n",
      "|County Name_ORANGE                                           |-0.32588358526389005 |\n",
      "|County Name_CHAUTAUQUA                                       |-0.33012739485239445 |\n",
      "|County Name_ALBANY                                           |-0.3350460744887169  |\n",
      "|County Name_BROOME                                           |-0.33634808815921957 |\n",
      "|County Name_OSWEGO                                           |-0.33752579902207475 |\n",
      "|County Name_CHEMUNG                                          |-0.33916640958844535 |\n",
      "|County Name_UNKNOWN                                          |-0.3430853820898982  |\n",
      "|County Name_JEFFERSON                                        |-0.358463751363873   |\n",
      "|Collision Type Descriptor_Unknown                            |-0.362951062639702   |\n",
      "|County Name_HERKIMER                                         |-0.3643532456141813  |\n",
      "|Lighting Conditions_Dark-Road_Unlighted                      |-0.36707210132617785 |\n",
      "|County Name_CATTARAUGUS                                      |-0.36903947589173713 |\n",
      "|County Name_SCHENECTADY                                      |-0.36919530192966155 |\n",
      "|County Name_ULSTER                                           |-0.3712222970298561  |\n",
      "|Collision Type Descriptor_SIDESWIPE                          |-0.37357827243880654 |\n",
      "|Traffic Control Device_Other                                 |-0.3821384282824072  |\n",
      "|Collision Type Descriptor_RIGHT_TURN_(5)                     |-0.38536324059551164 |\n",
      "|County Name_RENSSELAER                                       |-0.3930874963740163  |\n",
      "|County Name_COLUMBIA                                         |-0.39385546996107496 |\n",
      "|County Name_DELAWARE                                         |-0.40296979177411485 |\n",
      "|County Name_SENECA                                           |-0.4039166556673958  |\n",
      "|County Name_ALLEGANY                                         |-0.40417457670260826 |\n",
      "|County Name_ONTARIO                                          |-0.4048715978549943  |\n",
      "|County Name_SCHOHARIE                                        |-0.4218351948233423  |\n",
      "|County Name_OTSEGO                                           |-0.4224680875877179  |\n",
      "|Road Surface Conditions_Flooded_Water                        |-0.43478413933769594 |\n",
      "|County Name_MADISON                                          |-0.4426053940580816  |\n",
      "|County Name_LEWIS                                            |-0.44335881236412994 |\n",
      "|County Name_STEUBEN                                          |-0.457588009242592   |\n",
      "|County Name_CHENANGO                                         |-0.4624178882554747  |\n",
      "|County Name_SARATOGA                                         |-0.46474983786948254 |\n",
      "|County Name_GREENE                                           |-0.4718943223167713  |\n",
      "|County Name_WARREN                                           |-0.5010544581583144  |\n",
      "|Traffic Control Device_RR_Crossing_Flashing_Light            |-0.5079285284862513  |\n",
      "|County Name_MONTGOMERY                                       |-0.5148818235582635  |\n",
      "|Collision Type Descriptor_RIGHT_TURN_(6)                     |-0.5310687085058586  |\n",
      "|County Name_TOMPKINS                                         |-0.5406127850876845  |\n",
      "|County Name_YATES                                            |-0.5502921841262395  |\n",
      "|County Name_CLINTON                                          |-0.5526122725872834  |\n",
      "|County Name_SCHUYLER                                         |-0.556402727473243   |\n",
      "|County Name_ST._LAWRENCE                                     |-0.5565758660809538  |\n",
      "|County Name_LIVINGSTON                                       |-0.5569192822982719  |\n",
      "|County Name_GENESEE                                          |-0.5590676367438746  |\n",
      "|County Name_FRANKLIN                                         |-0.5752460765799536  |\n",
      "|County Name_WYOMING                                          |-0.5843768645016836  |\n",
      "|County Name_CORTLAND                                         |-0.6121774515720929  |\n",
      "|County Name_ESSEX                                            |-0.6179274027201668  |\n",
      "|Collision Type Descriptor_OVERTAKING                         |-0.6749950576909065  |\n",
      "|County Name_HAMILTON                                         |-0.6997377896447597  |\n",
      "+-------------------------------------------------------------+---------------------+\n",
      "\n"
     ]
    }
   ],
   "source": [
    "#Creating a dataframe for the coeff and the features\n",
    "lr_coeff_feature = spark.createDataFrame([(tup[0], float(tup[1])) for tup in list(zip(df_feature , lrmcoeff))],['feature', 'LR Coeff']).sort('LR Coeff', ascending=False)\n",
    "lr_coeff_feature.show(145,False)"
   ]
  },
  {
   "cell_type": "code",
   "execution_count": 48,
   "metadata": {},
   "outputs": [],
   "source": [
    "#Extracting the feature importance score from the random forest model\n",
    "importance= fit_rf.stages[-1].featureImportances.toArray()"
   ]
  },
  {
   "cell_type": "code",
   "execution_count": 49,
   "metadata": {},
   "outputs": [],
   "source": [
    "#Creating a dataframe with the name of the feature and the importance\n",
    "feature_importance =pd.DataFrame(list(zip(df_feature, importance)),columns = ['feature', 'importance']).sort_values('importance', ascending=False)"
   ]
  },
  {
   "cell_type": "code",
   "execution_count": 50,
   "metadata": {},
   "outputs": [
    {
     "data": {
      "text/plain": [
       "145"
      ]
     },
     "execution_count": 50,
     "metadata": {},
     "output_type": "execute_result"
    }
   ],
   "source": [
    "len(feature_importance)"
   ]
  },
  {
   "cell_type": "code",
   "execution_count": 51,
   "metadata": {},
   "outputs": [],
   "source": [
    "#Extracting the index of the top 100 feature important score to use it in the vector slicer \n",
    "idx= list(feature_importance.index)     \n",
    "feature_importance['IDX'] = idx\n",
    "varidx = [x for x in feature_importance['IDX'][0:100]]\n",
    "#varidx"
   ]
  },
  {
   "cell_type": "code",
   "execution_count": 52,
   "metadata": {},
   "outputs": [],
   "source": [
    "#Performed feature selection by using Vector Slice on the features \n",
    "slicer = VectorSlicer(inputCol=\"features\", outputCol=\"features_Rf\", indices=varidx)\n",
    "#Transforming the baseline dataframe to a new dataframe that consists of the top 100 features\n",
    "df_slicer = slicer.transform(df_feat)"
   ]
  },
  {
   "cell_type": "code",
   "execution_count": 53,
   "metadata": {},
   "outputs": [],
   "source": [
    "#Performing data split\n",
    "training_feat, validation_feat, testing_feat = df_slicer.randomSplit([0.6, 0.3, 0.1], seed=0)"
   ]
  },
  {
   "cell_type": "code",
   "execution_count": 54,
   "metadata": {},
   "outputs": [
    {
     "data": {
      "text/plain": [
       "0.7402455273204198"
      ]
     },
     "execution_count": 54,
     "metadata": {},
     "output_type": "execute_result"
    }
   ],
   "source": [
    "#Creating a Logistic Regression model with the sliced features\n",
    "pipe_lr_feat = Pipeline(stages=[classification.LogisticRegression(labelCol='AccidentDescriptor', featuresCol='features_Rf',regParam = 0.1,elasticNetParam = 0.001)])\n",
    "fit_lr_feat = pipe_lr_feat.fit(training_feat)\n",
    "dataframe_lr_feat = fit_lr_feat.transform(validation_feat)\n",
    "AUC_LR_feat = evaluator.evaluate(dataframe_lr_feat)\n",
    "AUC_LR_feat "
   ]
  },
  {
   "cell_type": "code",
   "execution_count": 55,
   "metadata": {},
   "outputs": [],
   "source": [
    "#Creating a Random Forest model with the sliced features\n",
    "pipe_rf_feat = Pipeline(stages=[classification.RandomForestClassifier(labelCol='AccidentDescriptor', featuresCol='features_Rf',numTrees = 20,maxDepth = 6)])\n",
    "fit_rf_feat = pipe_rf_feat.fit(training_feat)\n",
    "dataframe_rf_feat = fit_rf_feat.transform(validation_feat)\n",
    "AUC_RF_feat = evaluator.evaluate(dataframe_rf_feat)\n",
    "AUC_RF_feat "
   ]
  },
  {
   "cell_type": "code",
   "execution_count": 56,
   "metadata": {},
   "outputs": [
    {
     "data": {
      "text/plain": [
       "0.7379427168247586"
      ]
     },
     "execution_count": 56,
     "metadata": {},
     "output_type": "execute_result"
    }
   ],
   "source": [
    "#Creating a Gradient Boosting model with the sliced features\n",
    "pipe_gbt_feat = Pipeline(stages=[classification.GBTClassifier(labelCol='AccidentDescriptor', featuresCol='features_Rf',maxIter = 10)])\n",
    "fit_gbt_feat = pipe_gbt_feat.fit(training_feat)\n",
    "dataframe_gbt_feat = fit_gbt_feat.transform(validation_feat)\n",
    "AUC_GBT_feat = evaluator.evaluate(dataframe_gbt_feat)\n",
    "AUC_GBT_feat "
   ]
  },
  {
   "cell_type": "code",
   "execution_count": 57,
   "metadata": {},
   "outputs": [
    {
     "name": "stdout",
     "output_type": "stream",
     "text": [
      "The AUC of LR  : 0.7402455273204198\n",
      "The AUC of RF : 0.7179963800296109\n",
      "The AUC of GBT : 0.7379427168247586\n"
     ]
    }
   ],
   "source": [
    "#print the AUC of all models after using Vector Slicer feature selection technique\n",
    "print(\"The AUC of LR  :\", AUC_LR_feat) \n",
    "print(\"The AUC of RF :\", AUC_RF_feat)\n",
    "print(\"The AUC of GBT :\", AUC_GBT_feat)"
   ]
  },
  {
   "cell_type": "code",
   "execution_count": 58,
   "metadata": {},
   "outputs": [],
   "source": [
    "#AUC of the best model\n",
    "#Assinging the best model to LR\n",
    "best_LR_VS = fit_lr_feat\n",
    "#Performing Testing on the testing dataframe \n",
    "testdf_LR = best_LR_VS.transform(testing_feat)\n",
    "#AUC_best_LR = evaluator.evaluate(testdf_LR)"
   ]
  },
  {
   "cell_type": "code",
   "execution_count": 59,
   "metadata": {},
   "outputs": [
    {
     "data": {
      "text/plain": [
       "0.739915502412174"
      ]
     },
     "execution_count": 59,
     "metadata": {},
     "output_type": "execute_result"
    }
   ],
   "source": [
    "\n",
    "pipe_lr_feat = Pipeline(stages=[classification.LogisticRegression(labelCol='AccidentDescriptor', featuresCol='features_Rf',regParam = 0.1,elasticNetParam = 0.001)])\n",
    "fit_lr_feat = pipe_lr_feat.fit(training_feat)\n",
    "best_LR_VS = fit_lr_feat\n",
    "#Performing Testing on the testing dataframe \n",
    "testdf_LR = best_LR_VS.transform(testing_feat)\n",
    "AUC_best_LR = evaluator.evaluate(testdf_LR)\n",
    "AUC_best_LR"
   ]
  },
  {
   "cell_type": "code",
   "execution_count": 60,
   "metadata": {},
   "outputs": [
    {
     "name": "stdout",
     "output_type": "stream",
     "text": [
      "+-----------------------------------------------------------------------+\n",
      "|features_Rf                                                            |\n",
      "+-----------------------------------------------------------------------+\n",
      "|(100,[9,10,15,16,18,23,40,53,83],[1.0,1.0,1.0,1.0,1.0,1.0,1.0,1.0,1.0])|\n",
      "|(100,[0,9,10,16,18,25,53,89],[1.0,1.0,1.0,1.0,1.0,1.0,1.0,1.0])        |\n",
      "|(100,[0,9,10,16,18,25,30,53,65],[1.0,1.0,1.0,1.0,1.0,1.0,1.0,1.0,1.0]) |\n",
      "|(100,[9,13,16,18,22,24,56,64,78],[1.0,1.0,1.0,1.0,1.0,1.0,1.0,1.0,1.0])|\n",
      "|(100,[7,9,10,15,16,18,22,37,61],[1.0,1.0,1.0,1.0,1.0,1.0,1.0,1.0,1.0]) |\n",
      "+-----------------------------------------------------------------------+\n",
      "only showing top 5 rows\n",
      "\n"
     ]
    }
   ],
   "source": [
    "testdf_LR.select('features_Rf').show(5,False)"
   ]
  },
  {
   "cell_type": "code",
   "execution_count": 61,
   "metadata": {},
   "outputs": [
    {
     "name": "stdout",
     "output_type": "stream",
     "text": [
      "The AUC of the best model after vector slicing : 0.739915502412174\n"
     ]
    }
   ],
   "source": [
    "print(\"The AUC of the best model after vector slicing :\", AUC_best_LR)"
   ]
  },
  {
   "cell_type": "code",
   "execution_count": 62,
   "metadata": {},
   "outputs": [],
   "source": [
    "#Checking the f1score, Precision and Recall for the best model\n",
    "tp1 = testdf_LR[(testdf_LR.AccidentDescriptor == 1) & (testdf_LR.prediction == 1)].count()\n",
    "tn1 = testdf_LR[(testdf_LR.AccidentDescriptor == 0) & (testdf_LR.prediction == 0)].count()\n",
    "fp1 = testdf_LR[(testdf_LR.AccidentDescriptor == 0) & (testdf_LR.prediction == 1)].count()\n",
    "fn1 = testdf_LR[(testdf_LR.AccidentDescriptor == 1) & (testdf_LR.prediction == 0)].count()\n"
   ]
  },
  {
   "cell_type": "code",
   "execution_count": 63,
   "metadata": {},
   "outputs": [
    {
     "name": "stdout",
     "output_type": "stream",
     "text": [
      "Recall: 0.40148225989325514\n",
      "Precision: 0.7368946580129805\n",
      "F1score: 0.5197753537492\n"
     ]
    }
   ],
   "source": [
    "r1 = float(tp1)/(tp1 + fn1)\n",
    "print (\"Recall:\", r1)\n",
    "\n",
    "p1 = float(tp) / (tp1 + fp1)\n",
    "print (\"Precision:\", p1)\n",
    "\n",
    "f1score1 = float(2*((p1*r1)/(p1+r1)))\n",
    "print (\"F1score:\", f1score1)"
   ]
  },
  {
   "cell_type": "code",
   "execution_count": 64,
   "metadata": {},
   "outputs": [],
   "source": [
    "#Performing PCA for dimensionality reduction\n",
    "pipe_pca = Pipeline(stages=[feature.VectorAssembler(inputCols= ['Day of Week_feat',\n",
    " 'Lighting Conditions_feat',\n",
    " 'Collision Type Descriptor_feat',\n",
    " 'County Name_feat',\n",
    " 'Road Descriptor_feat',\n",
    " 'Weather Conditions_feat',\n",
    " 'Traffic Control Device_feat',\n",
    " 'Road Surface Conditions_feat',\n",
    " 'Hour',\n",
    " 'Month'], outputCol = 'pcafeatures'), feature.PCA(k=15, inputCol='pcafeatures',outputCol='pc')]).fit(df_feat)\n"
   ]
  },
  {
   "cell_type": "code",
   "execution_count": 65,
   "metadata": {},
   "outputs": [],
   "source": [
    "#Transforming to a dataframe with pca features\n",
    "pc_df= pipe_pca.transform(df_feat)\n",
    "training_pc, validation_pc, testing_pc = pc_df.randomSplit([0.6, 0.3, 0.1], seed=0)"
   ]
  },
  {
   "cell_type": "code",
   "execution_count": 66,
   "metadata": {},
   "outputs": [
    {
     "data": {
      "text/plain": [
       "0.6342795371266332"
      ]
     },
     "execution_count": 66,
     "metadata": {},
     "output_type": "execute_result"
    }
   ],
   "source": [
    "#Logistic Regression with pca features\n",
    "pipe_lr_pc = Pipeline(stages=[classification.LogisticRegression(labelCol='AccidentDescriptor', featuresCol='pc',regParam = 0.1,elasticNetParam = 0.001)]).fit(training_pc)\n",
    "pc_pred = pipe_lr_pc.transform(validation_pc)\n",
    "evaluator = evaluation.BinaryClassificationEvaluator(labelCol='AccidentDescriptor')\n",
    "AUC_LR_pc = evaluator.evaluate(pc_pred)\n",
    "AUC_LR_pc"
   ]
  },
  {
   "cell_type": "code",
   "execution_count": 67,
   "metadata": {},
   "outputs": [
    {
     "data": {
      "text/plain": [
       "0.6780532880169272"
      ]
     },
     "execution_count": 67,
     "metadata": {},
     "output_type": "execute_result"
    }
   ],
   "source": [
    "#Random forest with pca features\n",
    "pipe_rf_pc = Pipeline(stages=[classification.RandomForestClassifier(labelCol='AccidentDescriptor', featuresCol='pc',numTrees = 20,maxDepth = 6)]).fit(training_pc)\n",
    "pc_pred_rf = pipe_rf_pc.transform(validation_pc)\n",
    "AUC_RF_pc = evaluator.evaluate(pc_pred_rf)\n",
    "AUC_RF_pc\n"
   ]
  },
  {
   "cell_type": "code",
   "execution_count": 68,
   "metadata": {},
   "outputs": [
    {
     "data": {
      "text/plain": [
       "0.6868113110910181"
      ]
     },
     "execution_count": 68,
     "metadata": {},
     "output_type": "execute_result"
    }
   ],
   "source": [
    "#Gradient boosting with pca features\n",
    "pipe_gbt_pc = Pipeline(stages=[classification.GBTClassifier(labelCol='AccidentDescriptor', featuresCol='pc',maxIter = 10)]).fit(training_pc)\n",
    "pc_pred_gbt = pipe_gbt_pc.transform(validation_pc)\n",
    "AUC_GBT_pc = evaluator.evaluate(pc_pred_gbt)\n",
    "AUC_GBT_pc"
   ]
  },
  {
   "cell_type": "code",
   "execution_count": 69,
   "metadata": {},
   "outputs": [
    {
     "data": {
      "text/plain": [
       "0.6862694722986825"
      ]
     },
     "execution_count": 69,
     "metadata": {},
     "output_type": "execute_result"
    }
   ],
   "source": [
    "pc_pred_test = pipe_gbt_pc.transform(testing_pc)\n",
    "AUC_GBT_pc_test = evaluator.evaluate(pc_pred_test)\n",
    "AUC_GBT_pc_test"
   ]
  },
  {
   "cell_type": "code",
   "execution_count": 70,
   "metadata": {},
   "outputs": [
    {
     "name": "stdout",
     "output_type": "stream",
     "text": [
      "The AUC of LR  : 0.6342795371266332\n",
      "The AUC of RF : 0.6780532880169272\n",
      "The AUC of GBT : 0.6868113110910181\n"
     ]
    }
   ],
   "source": [
    "#print the AUC of all models on using pca features\n",
    "print(\"The AUC of LR  :\", AUC_LR_pc) \n",
    "print(\"The AUC of RF :\", AUC_RF_pc)\n",
    "print(\"The AUC of GBT :\", AUC_GBT_pc)"
   ]
  },
  {
   "cell_type": "code",
   "execution_count": 71,
   "metadata": {},
   "outputs": [],
   "source": [
    "pca_model = pipe_pca.stages[-1]\n",
    "pc1 = abs(pca_model.pc.toArray()[:, 0]).tolist()\n",
    "pc2 = abs(pca_model.pc.toArray()[:, 1]).tolist()\n",
    "pc1_df = spark.createDataFrame(list(zip(df_feature , pc1)),['feature', 'loadings']).sort('loadings', ascending=False)\n",
    "pc2_df = spark.createDataFrame(list(zip(df_feature , pc2)),['feature', 'loadings']).sort('loadings', ascending=False)\n",
    "\n",
    "# pc1_df = pd.DataFrame(list(zip(df_feature , pc1)),columns = ['feature', 'loadings']).sort_values('loadings', ascending=False)\n",
    "# pc2_df = pd.DataFrame(list(zip(df_feature , pc2)),columns = ['feature', 'loadings']).sort_values('loadings', ascending=False)\n"
   ]
  },
  {
   "cell_type": "code",
   "execution_count": 72,
   "metadata": {},
   "outputs": [
    {
     "name": "stdout",
     "output_type": "stream",
     "text": [
      "+--------------------------------+--------------------+\n",
      "|feature                         |loadings            |\n",
      "+--------------------------------+--------------------+\n",
      "|Hour_1                          |0.9993768546684467  |\n",
      "|Road Surface Conditions_Snow/Ice|0.020382590787955034|\n",
      "|Road Surface Conditions_Dry     |0.017515872197376787|\n",
      "|Weather Conditions_Snow         |0.011091831440935777|\n",
      "|Hour_2                          |0.010625329356173165|\n",
      "+--------------------------------+--------------------+\n",
      "only showing top 5 rows\n",
      "\n"
     ]
    }
   ],
   "source": [
    "pc1_df.show(5,False)"
   ]
  },
  {
   "cell_type": "code",
   "execution_count": 73,
   "metadata": {},
   "outputs": [
    {
     "name": "stdout",
     "output_type": "stream",
     "text": [
      "+---------------------------------------+-------------------+\n",
      "|feature                                |loadings           |\n",
      "+---------------------------------------+-------------------+\n",
      "|Hour_2                                 |0.9081255530803639 |\n",
      "|Lighting Conditions_Daylight           |0.3196763377727767 |\n",
      "|Lighting Conditions_Dark-Road_Lighted  |0.17017860138086374|\n",
      "|Lighting Conditions_Dark-Road_Unlighted|0.09039427394614218|\n",
      "|Collision Type Descriptor_OTHER        |0.07310966950066805|\n",
      "+---------------------------------------+-------------------+\n",
      "only showing top 5 rows\n",
      "\n"
     ]
    }
   ],
   "source": [
    "pc2_df.show(5,False)"
   ]
  },
  {
   "cell_type": "code",
   "execution_count": 74,
   "metadata": {},
   "outputs": [],
   "source": [
    "test_df = spark.createDataFrame([\n",
    "    ('Saturday','Daylight','SIDESWIPE','SUFFOLK','Curve and Grade','Cloudy','Traffic Signal','Wet',3,12)\n",
    "], ['Day of Week',\n",
    " 'Lighting Conditions',\n",
    " 'Collision Type Descriptor',\n",
    " 'County Name',\n",
    " 'Road Descriptor',\n",
    " 'Weather Conditions',\n",
    " 'Traffic Control Device',\n",
    " 'Road Surface Conditions',\n",
    "\n",
    " 'Hour',\n",
    " 'Month'])"
   ]
  },
  {
   "cell_type": "code",
   "execution_count": 75,
   "metadata": {},
   "outputs": [
    {
     "name": "stdout",
     "output_type": "stream",
     "text": [
      "+-----------+-------------------+-------------------------+-----------+---------------+------------------+----------------------+-----------------------+----+-----+\n",
      "|Day of Week|Lighting Conditions|Collision Type Descriptor|County Name|Road Descriptor|Weather Conditions|Traffic Control Device|Road Surface Conditions|Hour|Month|\n",
      "+-----------+-------------------+-------------------------+-----------+---------------+------------------+----------------------+-----------------------+----+-----+\n",
      "|   Saturday|           Daylight|                SIDESWIPE|    SUFFOLK|Curve and Grade|            Cloudy|        Traffic Signal|                    Wet|   3|   12|\n",
      "+-----------+-------------------+-------------------------+-----------+---------------+------------------+----------------------+-----------------------+----+-----+\n",
      "\n"
     ]
    }
   ],
   "source": [
    "test_df.show()"
   ]
  },
  {
   "cell_type": "code",
   "execution_count": 152,
   "metadata": {},
   "outputs": [],
   "source": [
    "test_feat = pipe_feat.transform(test_df)"
   ]
  },
  {
   "cell_type": "code",
   "execution_count": 153,
   "metadata": {},
   "outputs": [],
   "source": [
    "pc_test= pipe_pca.transform(test_feat)"
   ]
  },
  {
   "cell_type": "code",
   "execution_count": 154,
   "metadata": {},
   "outputs": [],
   "source": [
    "pred = pipe_rf_pc.transform(pc_test)"
   ]
  },
  {
   "cell_type": "code",
   "execution_count": 155,
   "metadata": {},
   "outputs": [
    {
     "name": "stdout",
     "output_type": "stream",
     "text": [
      "+----------+\n",
      "|prediction|\n",
      "+----------+\n",
      "|       0.0|\n",
      "+----------+\n",
      "\n"
     ]
    }
   ],
   "source": [
    "pred.select('prediction').show()"
   ]
  }
 ],
 "metadata": {
  "kernelspec": {
   "display_name": "Python 3",
   "language": "python",
   "name": "python3"
  },
  "language_info": {
   "codemirror_mode": {
    "name": "ipython",
    "version": 3
   },
   "file_extension": ".py",
   "mimetype": "text/x-python",
   "name": "python",
   "nbconvert_exporter": "python",
   "pygments_lexer": "ipython3",
   "version": "3.6.7"
  }
 },
 "nbformat": 4,
 "nbformat_minor": 2
}
